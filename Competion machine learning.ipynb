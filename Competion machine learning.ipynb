{
 "cells": [
  {
   "cell_type": "code",
   "execution_count": 105,
   "id": "e87797ec",
   "metadata": {},
   "outputs": [],
   "source": [
    "# Import libraries for data manipulation\n",
    "import numpy as np\n",
    "import pandas as pd\n",
    "\n",
    "# Import libraries for data visualization\n",
    "import matplotlib.pyplot as plt\n",
    "import seaborn as sns\n",
    "\n",
    "# Import libraries for model testing\n",
    "from sklearn.model_selection import train_test_split\n",
    "from sklearn.model_selection import cross_val_score\n",
    "from sklearn.metrics import confusion_matrix\n",
    "from sklearn.metrics import accuracy_score\n",
    "from sklearn.metrics import accuracy_score, precision_score, recall_score, f1_score\n",
    "\n",
    "# Import libraries for ML Models\n",
    "from sklearn.svm import SVC\n",
    "from sklearn.neighbors import KNeighborsClassifier\n",
    "from sklearn.ensemble import RandomForestClassifier, GradientBoostingClassifier\n",
    "from sklearn.naive_bayes import GaussianNB \n",
    "from xgboost import XGBClassifier\n",
    "from sklearn.tree import DecisionTreeClassifier\n",
    "\n",
    "# Import joblib to save model\n",
    "import joblib"
   ]
  },
  {
   "cell_type": "code",
   "execution_count": 106,
   "id": "82160441",
   "metadata": {},
   "outputs": [],
   "source": [
    "#load dataset\n",
    "#df = pd.read_csv(r'C:\\Users\\aabidh musthaq\\Desktop\\MAchine lea projects\\Competition\\Crop_Dataset.csv')\n",
    "df = pd.read_csv(r\"C:\\Users\\vishal\\Downloads\\Intellihack Competition\\Crop_Dataset.csv\")"
   ]
  },
  {
   "cell_type": "code",
   "execution_count": 107,
   "id": "168faf40",
   "metadata": {},
   "outputs": [
    {
     "data": {
      "text/html": [
       "<div>\n",
       "<style scoped>\n",
       "    .dataframe tbody tr th:only-of-type {\n",
       "        vertical-align: middle;\n",
       "    }\n",
       "\n",
       "    .dataframe tbody tr th {\n",
       "        vertical-align: top;\n",
       "    }\n",
       "\n",
       "    .dataframe thead th {\n",
       "        text-align: right;\n",
       "    }\n",
       "</style>\n",
       "<table border=\"1\" class=\"dataframe\">\n",
       "  <thead>\n",
       "    <tr style=\"text-align: right;\">\n",
       "      <th></th>\n",
       "      <th>N</th>\n",
       "      <th>P</th>\n",
       "      <th>K</th>\n",
       "      <th>temperature</th>\n",
       "      <th>humidity</th>\n",
       "      <th>ph</th>\n",
       "      <th>rainfall</th>\n",
       "      <th>Total_Nutrients</th>\n",
       "      <th>Temperature_Humidity</th>\n",
       "      <th>Log_Rainfall</th>\n",
       "      <th>Label</th>\n",
       "      <th>Label_Encoded</th>\n",
       "    </tr>\n",
       "  </thead>\n",
       "  <tbody>\n",
       "    <tr>\n",
       "      <th>0</th>\n",
       "      <td>90</td>\n",
       "      <td>42</td>\n",
       "      <td>43</td>\n",
       "      <td>20.879744</td>\n",
       "      <td>82.002744</td>\n",
       "      <td>6.502985</td>\n",
       "      <td>202.935536</td>\n",
       "      <td>175</td>\n",
       "      <td>1712.196283</td>\n",
       "      <td>5.317804</td>\n",
       "      <td>wheat</td>\n",
       "      <td>0</td>\n",
       "    </tr>\n",
       "    <tr>\n",
       "      <th>1</th>\n",
       "      <td>85</td>\n",
       "      <td>58</td>\n",
       "      <td>41</td>\n",
       "      <td>21.770462</td>\n",
       "      <td>80.319644</td>\n",
       "      <td>7.038096</td>\n",
       "      <td>226.655537</td>\n",
       "      <td>184</td>\n",
       "      <td>1748.595734</td>\n",
       "      <td>5.427834</td>\n",
       "      <td>wheat</td>\n",
       "      <td>0</td>\n",
       "    </tr>\n",
       "    <tr>\n",
       "      <th>2</th>\n",
       "      <td>60</td>\n",
       "      <td>55</td>\n",
       "      <td>44</td>\n",
       "      <td>23.004459</td>\n",
       "      <td>82.320763</td>\n",
       "      <td>7.840207</td>\n",
       "      <td>263.964248</td>\n",
       "      <td>159</td>\n",
       "      <td>1893.744627</td>\n",
       "      <td>5.579595</td>\n",
       "      <td>wheat</td>\n",
       "      <td>0</td>\n",
       "    </tr>\n",
       "    <tr>\n",
       "      <th>3</th>\n",
       "      <td>74</td>\n",
       "      <td>35</td>\n",
       "      <td>40</td>\n",
       "      <td>26.491096</td>\n",
       "      <td>80.158363</td>\n",
       "      <td>6.980401</td>\n",
       "      <td>242.864034</td>\n",
       "      <td>149</td>\n",
       "      <td>2123.482908</td>\n",
       "      <td>5.496611</td>\n",
       "      <td>wheat</td>\n",
       "      <td>0</td>\n",
       "    </tr>\n",
       "    <tr>\n",
       "      <th>4</th>\n",
       "      <td>78</td>\n",
       "      <td>42</td>\n",
       "      <td>42</td>\n",
       "      <td>20.130175</td>\n",
       "      <td>81.604873</td>\n",
       "      <td>7.628473</td>\n",
       "      <td>262.717340</td>\n",
       "      <td>162</td>\n",
       "      <td>1642.720357</td>\n",
       "      <td>5.574878</td>\n",
       "      <td>wheat</td>\n",
       "      <td>0</td>\n",
       "    </tr>\n",
       "  </tbody>\n",
       "</table>\n",
       "</div>"
      ],
      "text/plain": [
       "    N   P   K  temperature   humidity        ph    rainfall  Total_Nutrients  \\\n",
       "0  90  42  43    20.879744  82.002744  6.502985  202.935536              175   \n",
       "1  85  58  41    21.770462  80.319644  7.038096  226.655537              184   \n",
       "2  60  55  44    23.004459  82.320763  7.840207  263.964248              159   \n",
       "3  74  35  40    26.491096  80.158363  6.980401  242.864034              149   \n",
       "4  78  42  42    20.130175  81.604873  7.628473  262.717340              162   \n",
       "\n",
       "   Temperature_Humidity  Log_Rainfall  Label  Label_Encoded  \n",
       "0           1712.196283      5.317804  wheat              0  \n",
       "1           1748.595734      5.427834  wheat              0  \n",
       "2           1893.744627      5.579595  wheat              0  \n",
       "3           2123.482908      5.496611  wheat              0  \n",
       "4           1642.720357      5.574878  wheat              0  "
      ]
     },
     "execution_count": 107,
     "metadata": {},
     "output_type": "execute_result"
    }
   ],
   "source": [
    "df.head()"
   ]
  },
  {
   "cell_type": "code",
   "execution_count": 108,
   "id": "28332e25",
   "metadata": {},
   "outputs": [
    {
     "data": {
      "text/html": [
       "<div>\n",
       "<style scoped>\n",
       "    .dataframe tbody tr th:only-of-type {\n",
       "        vertical-align: middle;\n",
       "    }\n",
       "\n",
       "    .dataframe tbody tr th {\n",
       "        vertical-align: top;\n",
       "    }\n",
       "\n",
       "    .dataframe thead th {\n",
       "        text-align: right;\n",
       "    }\n",
       "</style>\n",
       "<table border=\"1\" class=\"dataframe\">\n",
       "  <thead>\n",
       "    <tr style=\"text-align: right;\">\n",
       "      <th></th>\n",
       "      <th>N</th>\n",
       "      <th>P</th>\n",
       "      <th>K</th>\n",
       "      <th>temperature</th>\n",
       "      <th>humidity</th>\n",
       "      <th>ph</th>\n",
       "      <th>rainfall</th>\n",
       "      <th>Total_Nutrients</th>\n",
       "      <th>Temperature_Humidity</th>\n",
       "      <th>Log_Rainfall</th>\n",
       "      <th>Label</th>\n",
       "      <th>Label_Encoded</th>\n",
       "    </tr>\n",
       "  </thead>\n",
       "  <tbody>\n",
       "    <tr>\n",
       "      <th>2195</th>\n",
       "      <td>107</td>\n",
       "      <td>34</td>\n",
       "      <td>32</td>\n",
       "      <td>26.774637</td>\n",
       "      <td>66.413269</td>\n",
       "      <td>6.780064</td>\n",
       "      <td>177.774507</td>\n",
       "      <td>173</td>\n",
       "      <td>1778.191164</td>\n",
       "      <td>5.186125</td>\n",
       "      <td>tomatoes</td>\n",
       "      <td>21</td>\n",
       "    </tr>\n",
       "    <tr>\n",
       "      <th>2196</th>\n",
       "      <td>99</td>\n",
       "      <td>15</td>\n",
       "      <td>27</td>\n",
       "      <td>27.417112</td>\n",
       "      <td>56.636362</td>\n",
       "      <td>6.086922</td>\n",
       "      <td>127.924610</td>\n",
       "      <td>141</td>\n",
       "      <td>1552.805515</td>\n",
       "      <td>4.859228</td>\n",
       "      <td>tomatoes</td>\n",
       "      <td>21</td>\n",
       "    </tr>\n",
       "    <tr>\n",
       "      <th>2197</th>\n",
       "      <td>118</td>\n",
       "      <td>33</td>\n",
       "      <td>30</td>\n",
       "      <td>24.131797</td>\n",
       "      <td>67.225123</td>\n",
       "      <td>6.362608</td>\n",
       "      <td>173.322839</td>\n",
       "      <td>181</td>\n",
       "      <td>1622.263022</td>\n",
       "      <td>5.160909</td>\n",
       "      <td>tomatoes</td>\n",
       "      <td>21</td>\n",
       "    </tr>\n",
       "    <tr>\n",
       "      <th>2198</th>\n",
       "      <td>117</td>\n",
       "      <td>32</td>\n",
       "      <td>34</td>\n",
       "      <td>26.272418</td>\n",
       "      <td>52.127394</td>\n",
       "      <td>6.758793</td>\n",
       "      <td>127.175293</td>\n",
       "      <td>183</td>\n",
       "      <td>1369.512711</td>\n",
       "      <td>4.853399</td>\n",
       "      <td>tomatoes</td>\n",
       "      <td>21</td>\n",
       "    </tr>\n",
       "    <tr>\n",
       "      <th>2199</th>\n",
       "      <td>104</td>\n",
       "      <td>18</td>\n",
       "      <td>30</td>\n",
       "      <td>23.603016</td>\n",
       "      <td>60.396475</td>\n",
       "      <td>6.779833</td>\n",
       "      <td>140.937041</td>\n",
       "      <td>152</td>\n",
       "      <td>1425.538942</td>\n",
       "      <td>4.955384</td>\n",
       "      <td>tomatoes</td>\n",
       "      <td>21</td>\n",
       "    </tr>\n",
       "  </tbody>\n",
       "</table>\n",
       "</div>"
      ],
      "text/plain": [
       "        N   P   K  temperature   humidity        ph    rainfall  \\\n",
       "2195  107  34  32    26.774637  66.413269  6.780064  177.774507   \n",
       "2196   99  15  27    27.417112  56.636362  6.086922  127.924610   \n",
       "2197  118  33  30    24.131797  67.225123  6.362608  173.322839   \n",
       "2198  117  32  34    26.272418  52.127394  6.758793  127.175293   \n",
       "2199  104  18  30    23.603016  60.396475  6.779833  140.937041   \n",
       "\n",
       "      Total_Nutrients  Temperature_Humidity  Log_Rainfall     Label  \\\n",
       "2195              173           1778.191164      5.186125  tomatoes   \n",
       "2196              141           1552.805515      4.859228  tomatoes   \n",
       "2197              181           1622.263022      5.160909  tomatoes   \n",
       "2198              183           1369.512711      4.853399  tomatoes   \n",
       "2199              152           1425.538942      4.955384  tomatoes   \n",
       "\n",
       "      Label_Encoded  \n",
       "2195             21  \n",
       "2196             21  \n",
       "2197             21  \n",
       "2198             21  \n",
       "2199             21  "
      ]
     },
     "execution_count": 108,
     "metadata": {},
     "output_type": "execute_result"
    }
   ],
   "source": [
    "df.tail()"
   ]
  },
  {
   "cell_type": "markdown",
   "id": "9c6899b0",
   "metadata": {},
   "source": [
    "### Data preprocessing"
   ]
  },
  {
   "cell_type": "code",
   "execution_count": 109,
   "id": "9463ae05",
   "metadata": {},
   "outputs": [
    {
     "data": {
      "text/plain": [
       "(2200, 12)"
      ]
     },
     "execution_count": 109,
     "metadata": {},
     "output_type": "execute_result"
    }
   ],
   "source": [
    "#Dataset Size\n",
    "df.shape"
   ]
  },
  {
   "cell_type": "code",
   "execution_count": 110,
   "id": "51915f84",
   "metadata": {},
   "outputs": [
    {
     "data": {
      "text/plain": [
       "N                       0\n",
       "P                       0\n",
       "K                       0\n",
       "temperature             0\n",
       "humidity                0\n",
       "ph                      0\n",
       "rainfall                0\n",
       "Total_Nutrients         0\n",
       "Temperature_Humidity    0\n",
       "Log_Rainfall            0\n",
       "Label                   0\n",
       "Label_Encoded           0\n",
       "dtype: int64"
      ]
     },
     "execution_count": 110,
     "metadata": {},
     "output_type": "execute_result"
    }
   ],
   "source": [
    "#Check for null values\n",
    "df.isnull().sum()"
   ]
  },
  {
   "cell_type": "code",
   "execution_count": 111,
   "id": "077574ce",
   "metadata": {},
   "outputs": [
    {
     "data": {
      "text/html": [
       "<div>\n",
       "<style scoped>\n",
       "    .dataframe tbody tr th:only-of-type {\n",
       "        vertical-align: middle;\n",
       "    }\n",
       "\n",
       "    .dataframe tbody tr th {\n",
       "        vertical-align: top;\n",
       "    }\n",
       "\n",
       "    .dataframe thead th {\n",
       "        text-align: right;\n",
       "    }\n",
       "</style>\n",
       "<table border=\"1\" class=\"dataframe\">\n",
       "  <thead>\n",
       "    <tr style=\"text-align: right;\">\n",
       "      <th></th>\n",
       "      <th>N</th>\n",
       "      <th>P</th>\n",
       "      <th>K</th>\n",
       "      <th>temperature</th>\n",
       "      <th>humidity</th>\n",
       "      <th>ph</th>\n",
       "      <th>rainfall</th>\n",
       "      <th>Total_Nutrients</th>\n",
       "      <th>Temperature_Humidity</th>\n",
       "      <th>Log_Rainfall</th>\n",
       "      <th>Label_Encoded</th>\n",
       "    </tr>\n",
       "  </thead>\n",
       "  <tbody>\n",
       "    <tr>\n",
       "      <th>count</th>\n",
       "      <td>2200.000000</td>\n",
       "      <td>2200.000000</td>\n",
       "      <td>2200.000000</td>\n",
       "      <td>2200.000000</td>\n",
       "      <td>2200.000000</td>\n",
       "      <td>2200.000000</td>\n",
       "      <td>2200.000000</td>\n",
       "      <td>2200.000000</td>\n",
       "      <td>2200.000000</td>\n",
       "      <td>2200.000000</td>\n",
       "      <td>2200.000000</td>\n",
       "    </tr>\n",
       "    <tr>\n",
       "      <th>mean</th>\n",
       "      <td>50.551818</td>\n",
       "      <td>53.362727</td>\n",
       "      <td>48.149091</td>\n",
       "      <td>25.616244</td>\n",
       "      <td>71.481779</td>\n",
       "      <td>6.469480</td>\n",
       "      <td>103.463655</td>\n",
       "      <td>152.063636</td>\n",
       "      <td>1854.231566</td>\n",
       "      <td>4.508730</td>\n",
       "      <td>10.500000</td>\n",
       "    </tr>\n",
       "    <tr>\n",
       "      <th>std</th>\n",
       "      <td>36.917334</td>\n",
       "      <td>32.985883</td>\n",
       "      <td>50.647931</td>\n",
       "      <td>5.063749</td>\n",
       "      <td>22.263812</td>\n",
       "      <td>0.773938</td>\n",
       "      <td>54.958389</td>\n",
       "      <td>79.918669</td>\n",
       "      <td>699.366334</td>\n",
       "      <td>0.545400</td>\n",
       "      <td>6.345731</td>\n",
       "    </tr>\n",
       "    <tr>\n",
       "      <th>min</th>\n",
       "      <td>0.000000</td>\n",
       "      <td>5.000000</td>\n",
       "      <td>5.000000</td>\n",
       "      <td>8.825675</td>\n",
       "      <td>14.258040</td>\n",
       "      <td>3.504752</td>\n",
       "      <td>20.211267</td>\n",
       "      <td>17.000000</td>\n",
       "      <td>247.613182</td>\n",
       "      <td>3.054533</td>\n",
       "      <td>0.000000</td>\n",
       "    </tr>\n",
       "    <tr>\n",
       "      <th>25%</th>\n",
       "      <td>21.000000</td>\n",
       "      <td>28.000000</td>\n",
       "      <td>20.000000</td>\n",
       "      <td>22.769375</td>\n",
       "      <td>60.261953</td>\n",
       "      <td>5.971693</td>\n",
       "      <td>64.551686</td>\n",
       "      <td>94.000000</td>\n",
       "      <td>1479.558114</td>\n",
       "      <td>4.182839</td>\n",
       "      <td>5.000000</td>\n",
       "    </tr>\n",
       "    <tr>\n",
       "      <th>50%</th>\n",
       "      <td>37.000000</td>\n",
       "      <td>51.000000</td>\n",
       "      <td>32.000000</td>\n",
       "      <td>25.598693</td>\n",
       "      <td>80.473146</td>\n",
       "      <td>6.425045</td>\n",
       "      <td>94.867624</td>\n",
       "      <td>146.000000</td>\n",
       "      <td>1927.883340</td>\n",
       "      <td>4.562968</td>\n",
       "      <td>10.500000</td>\n",
       "    </tr>\n",
       "    <tr>\n",
       "      <th>75%</th>\n",
       "      <td>84.250000</td>\n",
       "      <td>68.000000</td>\n",
       "      <td>49.000000</td>\n",
       "      <td>28.561654</td>\n",
       "      <td>89.948771</td>\n",
       "      <td>6.923643</td>\n",
       "      <td>124.267508</td>\n",
       "      <td>179.000000</td>\n",
       "      <td>2255.752423</td>\n",
       "      <td>4.830451</td>\n",
       "      <td>16.000000</td>\n",
       "    </tr>\n",
       "    <tr>\n",
       "      <th>max</th>\n",
       "      <td>140.000000</td>\n",
       "      <td>145.000000</td>\n",
       "      <td>205.000000</td>\n",
       "      <td>43.675493</td>\n",
       "      <td>99.981876</td>\n",
       "      <td>9.935091</td>\n",
       "      <td>298.560117</td>\n",
       "      <td>385.000000</td>\n",
       "      <td>4073.159566</td>\n",
       "      <td>5.702315</td>\n",
       "      <td>21.000000</td>\n",
       "    </tr>\n",
       "  </tbody>\n",
       "</table>\n",
       "</div>"
      ],
      "text/plain": [
       "                 N            P            K  temperature     humidity  \\\n",
       "count  2200.000000  2200.000000  2200.000000  2200.000000  2200.000000   \n",
       "mean     50.551818    53.362727    48.149091    25.616244    71.481779   \n",
       "std      36.917334    32.985883    50.647931     5.063749    22.263812   \n",
       "min       0.000000     5.000000     5.000000     8.825675    14.258040   \n",
       "25%      21.000000    28.000000    20.000000    22.769375    60.261953   \n",
       "50%      37.000000    51.000000    32.000000    25.598693    80.473146   \n",
       "75%      84.250000    68.000000    49.000000    28.561654    89.948771   \n",
       "max     140.000000   145.000000   205.000000    43.675493    99.981876   \n",
       "\n",
       "                ph     rainfall  Total_Nutrients  Temperature_Humidity  \\\n",
       "count  2200.000000  2200.000000      2200.000000           2200.000000   \n",
       "mean      6.469480   103.463655       152.063636           1854.231566   \n",
       "std       0.773938    54.958389        79.918669            699.366334   \n",
       "min       3.504752    20.211267        17.000000            247.613182   \n",
       "25%       5.971693    64.551686        94.000000           1479.558114   \n",
       "50%       6.425045    94.867624       146.000000           1927.883340   \n",
       "75%       6.923643   124.267508       179.000000           2255.752423   \n",
       "max       9.935091   298.560117       385.000000           4073.159566   \n",
       "\n",
       "       Log_Rainfall  Label_Encoded  \n",
       "count   2200.000000    2200.000000  \n",
       "mean       4.508730      10.500000  \n",
       "std        0.545400       6.345731  \n",
       "min        3.054533       0.000000  \n",
       "25%        4.182839       5.000000  \n",
       "50%        4.562968      10.500000  \n",
       "75%        4.830451      16.000000  \n",
       "max        5.702315      21.000000  "
      ]
     },
     "execution_count": 111,
     "metadata": {},
     "output_type": "execute_result"
    }
   ],
   "source": [
    "df.describe()"
   ]
  },
  {
   "cell_type": "code",
   "execution_count": 112,
   "id": "6430fc97",
   "metadata": {},
   "outputs": [
    {
     "name": "stdout",
     "output_type": "stream",
     "text": [
      "                       N       P       K  temperature   humidity        ph  \\\n",
      "Label                                                                        \n",
      "apples             21.98   16.93   30.59    27.409892  94.844272  5.976562   \n",
      "barley             77.76   48.44   19.79    22.389204  65.092249  6.245190   \n",
      "beans              40.02   67.47   19.24    29.973340  65.118426  7.133952   \n",
      "beets              20.07   27.18   29.92    31.208770  50.156573  5.766373   \n",
      "blackcurrants      19.58   16.55   10.01    22.765725  92.170209  7.016957   \n",
      "brussels_sprouts   21.44   48.01   20.23    28.194920  53.160418  6.831174   \n",
      "cabbage            20.99   47.28   19.87    28.525775  85.499975  6.723957   \n",
      "carrots           100.23   82.01   50.05    27.376798  80.358123  5.983893   \n",
      "cauliflower        20.73   67.73   20.29    27.741762  48.061633  5.794175   \n",
      "cherries           23.18  132.53  200.11    23.849575  81.875228  6.025937   \n",
      "lettuce            40.09   67.79   79.92    18.872847  16.860439  7.336957   \n",
      "pears              20.80  134.22  199.89    22.630942  92.333383  5.929663   \n",
      "peas               18.77   68.36   19.41    24.509052  64.804785  6.927932   \n",
      "plums              99.42   17.00   50.22    25.591767  85.160375  6.495778   \n",
      "potatoes          117.77   46.24   19.56    23.988958  79.843474  6.912675   \n",
      "rapeseed           78.40   46.86   39.99    24.958376  79.639864  6.732778   \n",
      "raspberries       100.32   17.72   50.08    28.663066  92.342802  6.358805   \n",
      "spinach            20.75   67.54   20.05    20.115085  21.605357  5.749411   \n",
      "strawberries       49.88   59.05   50.04    33.723859  92.403388  6.741442   \n",
      "tomatoes          101.20   28.74   29.94    25.540477  58.869846  6.790308   \n",
      "turnips            18.87   18.75   40.21    21.837842  90.125504  6.429172   \n",
      "wheat              79.89   47.58   39.87    23.689332  82.272822  6.425471   \n",
      "\n",
      "                    rainfall  Total_Nutrients  Temperature_Humidity  \\\n",
      "Label                                                                 \n",
      "apples            175.686646            69.50           2599.211654   \n",
      "barley             84.766988           145.99           1459.701894   \n",
      "beans              67.884151           126.73           1952.235118   \n",
      "beets              94.704515            77.17           1565.498775   \n",
      "blackcurrants     110.474969            46.14           2098.005457   \n",
      "brussels_sprouts   51.198487            89.68           1497.422671   \n",
      "cabbage            48.403601            88.14           2438.869698   \n",
      "carrots           104.626980           232.29           2199.112359   \n",
      "cauliflower       149.457564           108.75           1331.456413   \n",
      "cherries           69.611829           355.82           1954.248090   \n",
      "lettuce            80.058977           187.80            318.393932   \n",
      "pears             112.654779           354.91           2089.708355   \n",
      "peas               45.680454           106.54           1588.373682   \n",
      "plums              50.786219           166.64           2179.420930   \n",
      "potatoes           80.398043           183.57           1915.340242   \n",
      "rapeseed          174.792798           165.25           1987.572689   \n",
      "raspberries        24.689952           168.12           2646.963335   \n",
      "spinach           105.919778           108.34            434.793639   \n",
      "strawberries      142.627839           158.97           3116.144854   \n",
      "tomatoes          158.066295           159.88           1502.955549   \n",
      "turnips           107.528442            77.83           1968.655972   \n",
      "wheat             236.181114           167.34           1949.009152   \n",
      "\n",
      "                  Log_Rainfall  \n",
      "Label                           \n",
      "apples                5.160553  \n",
      "barley                4.435142  \n",
      "beans                 4.230591  \n",
      "beets                 4.560664  \n",
      "blackcurrants         4.712487  \n",
      "brussels_sprouts      3.919492  \n",
      "cabbage               3.889488  \n",
      "carrots               4.655966  \n",
      "cauliflower           4.987717  \n",
      "cherries              4.256337  \n",
      "lettuce               4.390399  \n",
      "pears                 4.731227  \n",
      "peas                  3.835817  \n",
      "plums                 3.940627  \n",
      "potatoes              4.389700  \n",
      "rapeseed              5.165625  \n",
      "raspberries           3.240299  \n",
      "spinach               4.639946  \n",
      "strawberries          4.848842  \n",
      "tomatoes              5.056125  \n",
      "turnips               4.686660  \n",
      "wheat                 5.458348  \n"
     ]
    }
   ],
   "source": [
    "df_without_label_encoded = df.drop('Label_Encoded', axis=1)\n",
    "mean_df = df_without_label_encoded.groupby('Label').mean()\n",
    "print(mean_df)"
   ]
  },
  {
   "cell_type": "code",
   "execution_count": 113,
   "id": "b9d8aa35",
   "metadata": {},
   "outputs": [
    {
     "data": {
      "text/plain": [
       "Label_Encoded\n",
       "0     100\n",
       "1     100\n",
       "20    100\n",
       "19    100\n",
       "18    100\n",
       "17    100\n",
       "16    100\n",
       "15    100\n",
       "14    100\n",
       "13    100\n",
       "12    100\n",
       "11    100\n",
       "10    100\n",
       "9     100\n",
       "8     100\n",
       "7     100\n",
       "6     100\n",
       "5     100\n",
       "4     100\n",
       "3     100\n",
       "2     100\n",
       "21    100\n",
       "Name: count, dtype: int64"
      ]
     },
     "execution_count": 113,
     "metadata": {},
     "output_type": "execute_result"
    }
   ],
   "source": [
    "df['Label_Encoded'].value_counts()"
   ]
  },
  {
   "cell_type": "code",
   "execution_count": 114,
   "id": "7f1af1a5",
   "metadata": {},
   "outputs": [
    {
     "data": {
      "text/plain": [
       "0"
      ]
     },
     "execution_count": 114,
     "metadata": {},
     "output_type": "execute_result"
    }
   ],
   "source": [
    "df.duplicated().sum()"
   ]
  },
  {
   "cell_type": "code",
   "execution_count": 115,
   "id": "dae66239",
   "metadata": {},
   "outputs": [
    {
     "data": {
      "text/plain": [
       "N                         int64\n",
       "P                         int64\n",
       "K                         int64\n",
       "temperature             float64\n",
       "humidity                float64\n",
       "ph                      float64\n",
       "rainfall                float64\n",
       "Total_Nutrients           int64\n",
       "Temperature_Humidity    float64\n",
       "Log_Rainfall            float64\n",
       "Label                    object\n",
       "Label_Encoded             int64\n",
       "dtype: object"
      ]
     },
     "execution_count": 115,
     "metadata": {},
     "output_type": "execute_result"
    }
   ],
   "source": [
    "df.dtypes"
   ]
  },
  {
   "cell_type": "code",
   "execution_count": 116,
   "id": "0b493e42",
   "metadata": {},
   "outputs": [],
   "source": [
    "cor = df.iloc[:,:-2].corr()"
   ]
  },
  {
   "cell_type": "code",
   "execution_count": 117,
   "id": "c4e9efc7",
   "metadata": {},
   "outputs": [
    {
     "data": {
      "image/png": "[encoded data removed]",
      "text/plain": [
       "<Figure size 1500x600 with 2 Axes>"
      ]
     },
     "metadata": {},
     "output_type": "display_data"
    }
   ],
   "source": [
    "plt.figure(figsize=(15,6))\n",
    "sns.heatmap(cor,annot=True,cmap ='coolwarm')\n",
    "plt.show()"
   ]
  },
  {
   "cell_type": "code",
   "execution_count": 118,
   "id": "46b33a02",
   "metadata": {},
   "outputs": [
    {
     "name": "stdout",
     "output_type": "stream",
     "text": [
      "<class 'pandas.core.frame.DataFrame'>\n",
      "RangeIndex: 2200 entries, 0 to 2199\n",
      "Data columns (total 12 columns):\n",
      " #   Column                Non-Null Count  Dtype  \n",
      "---  ------                --------------  -----  \n",
      " 0   N                     2200 non-null   int64  \n",
      " 1   P                     2200 non-null   int64  \n",
      " 2   K                     2200 non-null   int64  \n",
      " 3   temperature           2200 non-null   float64\n",
      " 4   humidity              2200 non-null   float64\n",
      " 5   ph                    2200 non-null   float64\n",
      " 6   rainfall              2200 non-null   float64\n",
      " 7   Total_Nutrients       2200 non-null   int64  \n",
      " 8   Temperature_Humidity  2200 non-null   float64\n",
      " 9   Log_Rainfall          2200 non-null   float64\n",
      " 10  Label                 2200 non-null   object \n",
      " 11  Label_Encoded         2200 non-null   int64  \n",
      "dtypes: float64(6), int64(5), object(1)\n",
      "memory usage: 206.4+ KB\n"
     ]
    }
   ],
   "source": [
    "df.info()"
   ]
  },
  {
   "cell_type": "code",
   "execution_count": 119,
   "id": "7cb38f55",
   "metadata": {},
   "outputs": [
    {
     "data": {
      "text/plain": [
       "array(['wheat', 'barley', 'lettuce', 'spinach', 'cauliflower',\n",
       "       'brussels_sprouts', 'cabbage', 'beans', 'peas', 'turnips',\n",
       "       'carrots', 'beets', 'cherries', 'plums', 'raspberries', 'pears',\n",
       "       'blackcurrants', 'strawberries', 'apples', 'potatoes', 'rapeseed',\n",
       "       'tomatoes'], dtype=object)"
      ]
     },
     "execution_count": 119,
     "metadata": {},
     "output_type": "execute_result"
    }
   ],
   "source": [
    "df['Label'].unique()"
   ]
  },
  {
   "cell_type": "code",
   "execution_count": 120,
   "id": "c36332d6",
   "metadata": {},
   "outputs": [],
   "source": [
    "# Define function to categorize crops based on growth cycle\n",
    "def categorize_growth_cycle(crop):\n",
    "    annual_crops = ['wheat', 'barley', 'lettuce', 'spinach', 'beans', 'peas', 'carrots', 'beets', 'tomatoes']\n",
    "    biennial_crops = ['cauliflower', 'brussels_sprouts', 'cabbage', 'turnips']\n",
    "    perennial_crops = ['cherries', 'plums', 'raspberries', 'pears', 'blackcurrants', 'strawberries', 'apples', 'potatoes', 'rapeseed']\n",
    "    \n",
    "    if crop in annual_crops:\n",
    "        return 'Annual'\n",
    "    elif crop in biennial_crops:\n",
    "        return 'Biennial'\n",
    "    elif crop in perennial_crops:\n",
    "        return 'Perennial'\n",
    "    else:\n",
    "        return 'Other'\n",
    "\n",
    "# Apply the function to the 'label' column and create a new column 'Growth Cycle' in the DataFrame\n",
    "df['Growth_Cycle'] = df['Label'].apply(categorize_growth_cycle)\n",
    "\n"
   ]
  },
  {
   "cell_type": "code",
   "execution_count": 121,
   "id": "077dc080",
   "metadata": {},
   "outputs": [],
   "source": [
    "# Define function to categorize crops based on growth season\n",
    "def categorize_season(crop):\n",
    "    cool_season_crops = ['wheat', 'barley', 'lettuce', 'spinach', 'cauliflower','brussels_sprouts', 'cabbage', 'peas', 'turnips', 'carrots', 'beets', 'apples', 'potatoes']\n",
    "    warm_season_crops = ['beans', 'cherries', 'plums', 'raspberries', 'pears', 'blackcurrants', 'strawberries', 'rapeseed', 'tomatoes']\n",
    "    \n",
    "    if crop in cool_season_crops:\n",
    "        return 'Cool-Season'\n",
    "    elif crop in warm_season_crops:\n",
    "        return 'Warm-Season'\n",
    "    else:\n",
    "        return 'Other'\n",
    "\n",
    "# Apply the function to the 'label' column and create a new column 'Season' in the DataFrame\n",
    "df['Season'] = df['Label'].apply(categorize_season)\n"
   ]
  },
  {
   "cell_type": "code",
   "execution_count": 122,
   "id": "2dbf2c01",
   "metadata": {},
   "outputs": [
    {
     "data": {
      "text/html": [
       "<div>\n",
       "<style scoped>\n",
       "    .dataframe tbody tr th:only-of-type {\n",
       "        vertical-align: middle;\n",
       "    }\n",
       "\n",
       "    .dataframe tbody tr th {\n",
       "        vertical-align: top;\n",
       "    }\n",
       "\n",
       "    .dataframe thead th {\n",
       "        text-align: right;\n",
       "    }\n",
       "</style>\n",
       "<table border=\"1\" class=\"dataframe\">\n",
       "  <thead>\n",
       "    <tr style=\"text-align: right;\">\n",
       "      <th></th>\n",
       "      <th>N</th>\n",
       "      <th>P</th>\n",
       "      <th>K</th>\n",
       "      <th>temperature</th>\n",
       "      <th>humidity</th>\n",
       "      <th>ph</th>\n",
       "      <th>rainfall</th>\n",
       "      <th>Total_Nutrients</th>\n",
       "      <th>Temperature_Humidity</th>\n",
       "      <th>Log_Rainfall</th>\n",
       "      <th>Label</th>\n",
       "      <th>Label_Encoded</th>\n",
       "      <th>Growth_Cycle</th>\n",
       "      <th>Season</th>\n",
       "    </tr>\n",
       "  </thead>\n",
       "  <tbody>\n",
       "    <tr>\n",
       "      <th>0</th>\n",
       "      <td>90</td>\n",
       "      <td>42</td>\n",
       "      <td>43</td>\n",
       "      <td>20.879744</td>\n",
       "      <td>82.002744</td>\n",
       "      <td>6.502985</td>\n",
       "      <td>202.935536</td>\n",
       "      <td>175</td>\n",
       "      <td>1712.196283</td>\n",
       "      <td>5.317804</td>\n",
       "      <td>wheat</td>\n",
       "      <td>0</td>\n",
       "      <td>Annual</td>\n",
       "      <td>Cool-Season</td>\n",
       "    </tr>\n",
       "    <tr>\n",
       "      <th>1</th>\n",
       "      <td>85</td>\n",
       "      <td>58</td>\n",
       "      <td>41</td>\n",
       "      <td>21.770462</td>\n",
       "      <td>80.319644</td>\n",
       "      <td>7.038096</td>\n",
       "      <td>226.655537</td>\n",
       "      <td>184</td>\n",
       "      <td>1748.595734</td>\n",
       "      <td>5.427834</td>\n",
       "      <td>wheat</td>\n",
       "      <td>0</td>\n",
       "      <td>Annual</td>\n",
       "      <td>Cool-Season</td>\n",
       "    </tr>\n",
       "    <tr>\n",
       "      <th>2</th>\n",
       "      <td>60</td>\n",
       "      <td>55</td>\n",
       "      <td>44</td>\n",
       "      <td>23.004459</td>\n",
       "      <td>82.320763</td>\n",
       "      <td>7.840207</td>\n",
       "      <td>263.964248</td>\n",
       "      <td>159</td>\n",
       "      <td>1893.744627</td>\n",
       "      <td>5.579595</td>\n",
       "      <td>wheat</td>\n",
       "      <td>0</td>\n",
       "      <td>Annual</td>\n",
       "      <td>Cool-Season</td>\n",
       "    </tr>\n",
       "    <tr>\n",
       "      <th>3</th>\n",
       "      <td>74</td>\n",
       "      <td>35</td>\n",
       "      <td>40</td>\n",
       "      <td>26.491096</td>\n",
       "      <td>80.158363</td>\n",
       "      <td>6.980401</td>\n",
       "      <td>242.864034</td>\n",
       "      <td>149</td>\n",
       "      <td>2123.482908</td>\n",
       "      <td>5.496611</td>\n",
       "      <td>wheat</td>\n",
       "      <td>0</td>\n",
       "      <td>Annual</td>\n",
       "      <td>Cool-Season</td>\n",
       "    </tr>\n",
       "    <tr>\n",
       "      <th>4</th>\n",
       "      <td>78</td>\n",
       "      <td>42</td>\n",
       "      <td>42</td>\n",
       "      <td>20.130175</td>\n",
       "      <td>81.604873</td>\n",
       "      <td>7.628473</td>\n",
       "      <td>262.717340</td>\n",
       "      <td>162</td>\n",
       "      <td>1642.720357</td>\n",
       "      <td>5.574878</td>\n",
       "      <td>wheat</td>\n",
       "      <td>0</td>\n",
       "      <td>Annual</td>\n",
       "      <td>Cool-Season</td>\n",
       "    </tr>\n",
       "  </tbody>\n",
       "</table>\n",
       "</div>"
      ],
      "text/plain": [
       "    N   P   K  temperature   humidity        ph    rainfall  Total_Nutrients  \\\n",
       "0  90  42  43    20.879744  82.002744  6.502985  202.935536              175   \n",
       "1  85  58  41    21.770462  80.319644  7.038096  226.655537              184   \n",
       "2  60  55  44    23.004459  82.320763  7.840207  263.964248              159   \n",
       "3  74  35  40    26.491096  80.158363  6.980401  242.864034              149   \n",
       "4  78  42  42    20.130175  81.604873  7.628473  262.717340              162   \n",
       "\n",
       "   Temperature_Humidity  Log_Rainfall  Label  Label_Encoded Growth_Cycle  \\\n",
       "0           1712.196283      5.317804  wheat              0       Annual   \n",
       "1           1748.595734      5.427834  wheat              0       Annual   \n",
       "2           1893.744627      5.579595  wheat              0       Annual   \n",
       "3           2123.482908      5.496611  wheat              0       Annual   \n",
       "4           1642.720357      5.574878  wheat              0       Annual   \n",
       "\n",
       "        Season  \n",
       "0  Cool-Season  \n",
       "1  Cool-Season  \n",
       "2  Cool-Season  \n",
       "3  Cool-Season  \n",
       "4  Cool-Season  "
      ]
     },
     "execution_count": 122,
     "metadata": {},
     "output_type": "execute_result"
    }
   ],
   "source": [
    "df.head()"
   ]
  },
  {
   "cell_type": "code",
   "execution_count": 123,
   "id": "0879df83",
   "metadata": {},
   "outputs": [
    {
     "data": {
      "text/plain": [
       "array(['Annual', 'Biennial', 'Perennial'], dtype=object)"
      ]
     },
     "execution_count": 123,
     "metadata": {},
     "output_type": "execute_result"
    }
   ],
   "source": [
    "df['Growth_Cycle'].unique()"
   ]
  },
  {
   "cell_type": "code",
   "execution_count": 124,
   "id": "7d7269ef",
   "metadata": {},
   "outputs": [
    {
     "name": "stderr",
     "output_type": "stream",
     "text": [
      "C:\\Users\\vishal\\AppData\\Local\\Temp\\ipykernel_11740\\751598239.py:5: FutureWarning: Downcasting behavior in `replace` is deprecated and will be removed in a future version. To retain the old behavior, explicitly call `result.infer_objects(copy=False)`. To opt-in to the future behavior, set `pd.set_option('future.no_silent_downcasting', True)`\n",
      "  df['Growth Cycle Code'] = df['Growth_Cycle'].replace(mapping)\n"
     ]
    }
   ],
   "source": [
    "# Define the mapping dictionary\n",
    "mapping = {'Annual': 0, 'Biennial': 1, 'Perennial': 2}\n",
    "\n",
    "# Create a new column 'Growth Cycle Code' with numerical codes\n",
    "df['Growth Cycle Code'] = df['Growth_Cycle'].replace(mapping)\n"
   ]
  },
  {
   "cell_type": "code",
   "execution_count": 125,
   "id": "87c96288",
   "metadata": {},
   "outputs": [
    {
     "data": {
      "text/plain": [
       "array(['Cool-Season', 'Warm-Season'], dtype=object)"
      ]
     },
     "execution_count": 125,
     "metadata": {},
     "output_type": "execute_result"
    }
   ],
   "source": [
    "df['Season'].unique()"
   ]
  },
  {
   "cell_type": "code",
   "execution_count": 126,
   "id": "c0580d20",
   "metadata": {},
   "outputs": [],
   "source": [
    "# Define the mapping dictionary\n",
    "season_mapping = {'Cool-Season': 0, 'Warm-Season': 1}\n",
    "\n",
    "# Encode the 'Season' column\n",
    "df['Season_Code'] = df['Season'].map(season_mapping)"
   ]
  },
  {
   "cell_type": "code",
   "execution_count": 127,
   "id": "994f1c97",
   "metadata": {},
   "outputs": [
    {
     "data": {
      "text/html": [
       "<div>\n",
       "<style scoped>\n",
       "    .dataframe tbody tr th:only-of-type {\n",
       "        vertical-align: middle;\n",
       "    }\n",
       "\n",
       "    .dataframe tbody tr th {\n",
       "        vertical-align: top;\n",
       "    }\n",
       "\n",
       "    .dataframe thead th {\n",
       "        text-align: right;\n",
       "    }\n",
       "</style>\n",
       "<table border=\"1\" class=\"dataframe\">\n",
       "  <thead>\n",
       "    <tr style=\"text-align: right;\">\n",
       "      <th></th>\n",
       "      <th>N</th>\n",
       "      <th>P</th>\n",
       "      <th>K</th>\n",
       "      <th>temperature</th>\n",
       "      <th>humidity</th>\n",
       "      <th>ph</th>\n",
       "      <th>rainfall</th>\n",
       "      <th>Total_Nutrients</th>\n",
       "      <th>Temperature_Humidity</th>\n",
       "      <th>Log_Rainfall</th>\n",
       "      <th>Label</th>\n",
       "      <th>Label_Encoded</th>\n",
       "      <th>Growth_Cycle</th>\n",
       "      <th>Season</th>\n",
       "      <th>Growth Cycle Code</th>\n",
       "      <th>Season_Code</th>\n",
       "    </tr>\n",
       "  </thead>\n",
       "  <tbody>\n",
       "    <tr>\n",
       "      <th>0</th>\n",
       "      <td>90</td>\n",
       "      <td>42</td>\n",
       "      <td>43</td>\n",
       "      <td>20.879744</td>\n",
       "      <td>82.002744</td>\n",
       "      <td>6.502985</td>\n",
       "      <td>202.935536</td>\n",
       "      <td>175</td>\n",
       "      <td>1712.196283</td>\n",
       "      <td>5.317804</td>\n",
       "      <td>wheat</td>\n",
       "      <td>0</td>\n",
       "      <td>Annual</td>\n",
       "      <td>Cool-Season</td>\n",
       "      <td>0</td>\n",
       "      <td>0</td>\n",
       "    </tr>\n",
       "    <tr>\n",
       "      <th>1</th>\n",
       "      <td>85</td>\n",
       "      <td>58</td>\n",
       "      <td>41</td>\n",
       "      <td>21.770462</td>\n",
       "      <td>80.319644</td>\n",
       "      <td>7.038096</td>\n",
       "      <td>226.655537</td>\n",
       "      <td>184</td>\n",
       "      <td>1748.595734</td>\n",
       "      <td>5.427834</td>\n",
       "      <td>wheat</td>\n",
       "      <td>0</td>\n",
       "      <td>Annual</td>\n",
       "      <td>Cool-Season</td>\n",
       "      <td>0</td>\n",
       "      <td>0</td>\n",
       "    </tr>\n",
       "    <tr>\n",
       "      <th>2</th>\n",
       "      <td>60</td>\n",
       "      <td>55</td>\n",
       "      <td>44</td>\n",
       "      <td>23.004459</td>\n",
       "      <td>82.320763</td>\n",
       "      <td>7.840207</td>\n",
       "      <td>263.964248</td>\n",
       "      <td>159</td>\n",
       "      <td>1893.744627</td>\n",
       "      <td>5.579595</td>\n",
       "      <td>wheat</td>\n",
       "      <td>0</td>\n",
       "      <td>Annual</td>\n",
       "      <td>Cool-Season</td>\n",
       "      <td>0</td>\n",
       "      <td>0</td>\n",
       "    </tr>\n",
       "    <tr>\n",
       "      <th>3</th>\n",
       "      <td>74</td>\n",
       "      <td>35</td>\n",
       "      <td>40</td>\n",
       "      <td>26.491096</td>\n",
       "      <td>80.158363</td>\n",
       "      <td>6.980401</td>\n",
       "      <td>242.864034</td>\n",
       "      <td>149</td>\n",
       "      <td>2123.482908</td>\n",
       "      <td>5.496611</td>\n",
       "      <td>wheat</td>\n",
       "      <td>0</td>\n",
       "      <td>Annual</td>\n",
       "      <td>Cool-Season</td>\n",
       "      <td>0</td>\n",
       "      <td>0</td>\n",
       "    </tr>\n",
       "    <tr>\n",
       "      <th>4</th>\n",
       "      <td>78</td>\n",
       "      <td>42</td>\n",
       "      <td>42</td>\n",
       "      <td>20.130175</td>\n",
       "      <td>81.604873</td>\n",
       "      <td>7.628473</td>\n",
       "      <td>262.717340</td>\n",
       "      <td>162</td>\n",
       "      <td>1642.720357</td>\n",
       "      <td>5.574878</td>\n",
       "      <td>wheat</td>\n",
       "      <td>0</td>\n",
       "      <td>Annual</td>\n",
       "      <td>Cool-Season</td>\n",
       "      <td>0</td>\n",
       "      <td>0</td>\n",
       "    </tr>\n",
       "  </tbody>\n",
       "</table>\n",
       "</div>"
      ],
      "text/plain": [
       "    N   P   K  temperature   humidity        ph    rainfall  Total_Nutrients  \\\n",
       "0  90  42  43    20.879744  82.002744  6.502985  202.935536              175   \n",
       "1  85  58  41    21.770462  80.319644  7.038096  226.655537              184   \n",
       "2  60  55  44    23.004459  82.320763  7.840207  263.964248              159   \n",
       "3  74  35  40    26.491096  80.158363  6.980401  242.864034              149   \n",
       "4  78  42  42    20.130175  81.604873  7.628473  262.717340              162   \n",
       "\n",
       "   Temperature_Humidity  Log_Rainfall  Label  Label_Encoded Growth_Cycle  \\\n",
       "0           1712.196283      5.317804  wheat              0       Annual   \n",
       "1           1748.595734      5.427834  wheat              0       Annual   \n",
       "2           1893.744627      5.579595  wheat              0       Annual   \n",
       "3           2123.482908      5.496611  wheat              0       Annual   \n",
       "4           1642.720357      5.574878  wheat              0       Annual   \n",
       "\n",
       "        Season  Growth Cycle Code  Season_Code  \n",
       "0  Cool-Season                  0            0  \n",
       "1  Cool-Season                  0            0  \n",
       "2  Cool-Season                  0            0  \n",
       "3  Cool-Season                  0            0  \n",
       "4  Cool-Season                  0            0  "
      ]
     },
     "execution_count": 127,
     "metadata": {},
     "output_type": "execute_result"
    }
   ],
   "source": [
    "df.head()"
   ]
  },
  {
   "cell_type": "code",
   "execution_count": 128,
   "id": "1ada4c1b",
   "metadata": {},
   "outputs": [
    {
     "data": {
      "text/plain": [
       "array([0, 1], dtype=int64)"
      ]
     },
     "execution_count": 128,
     "metadata": {},
     "output_type": "execute_result"
    }
   ],
   "source": [
    "df['Season_Code'].unique()"
   ]
  },
  {
   "cell_type": "code",
   "execution_count": 129,
   "id": "a1458cc5",
   "metadata": {},
   "outputs": [
    {
     "data": {
      "text/plain": [
       "array([0, 1, 2], dtype=int64)"
      ]
     },
     "execution_count": 129,
     "metadata": {},
     "output_type": "execute_result"
    }
   ],
   "source": [
    "df['Growth Cycle Code'].unique()"
   ]
  },
  {
   "cell_type": "code",
   "execution_count": 130,
   "id": "727c52c0",
   "metadata": {},
   "outputs": [],
   "source": [
    "#Define Features and Target Variables\n",
    "x = df.drop(['Label', 'Label_Encoded', 'Growth_Cycle', 'Season'], axis=1)\n",
    "y = df['Label_Encoded']"
   ]
  },
  {
   "cell_type": "code",
   "execution_count": 131,
   "id": "cdf176ef",
   "metadata": {},
   "outputs": [],
   "source": [
    "#Split the dataset into training and testing sets\n",
    "x_train, x_test, y_train, y_test = train_test_split(x, y, test_size=0.2, random_state=42)"
   ]
  },
  {
   "cell_type": "code",
   "execution_count": 132,
   "id": "3c27897d",
   "metadata": {},
   "outputs": [
    {
     "data": {
      "text/plain": [
       "((1760, 12), (440, 12), (2200, 12))"
      ]
     },
     "execution_count": 132,
     "metadata": {},
     "output_type": "execute_result"
    }
   ],
   "source": [
    "x_train.shape, x_test.shape, x.shape"
   ]
  },
  {
   "cell_type": "code",
   "execution_count": 133,
   "id": "ab5b71bb",
   "metadata": {},
   "outputs": [],
   "source": [
    "model_accuracy = []\n",
    "model = []"
   ]
  },
  {
   "cell_type": "code",
   "execution_count": 134,
   "id": "82521080",
   "metadata": {},
   "outputs": [],
   "source": [
    "# Define the dictionary of classifiers\n",
    "models = {\n",
    "    SVC(kernel='linear', random_state=0, gamma='auto'): 'Support Vector Classifier',\n",
    "    KNeighborsClassifier(): 'K Nearest Neighbors Classifier',\n",
    "    RandomForestClassifier(n_estimators=100, random_state=0): 'Random Forest Classifier',\n",
    "    GradientBoostingClassifier(n_estimators=100, random_state=0): 'Gradient Boosting Classifier',\n",
    "    GaussianNB(): 'Gaussian Naive Bayes',\n",
    "    XGBClassifier(n_estimators=500) : 'XGB Classifier',\n",
    "    DecisionTreeClassifier(criterion=\"entropy\",random_state=2,max_depth=5): 'Decision Tree Classifier'\n",
    "}\n"
   ]
  },
  {
   "cell_type": "code",
   "execution_count": 135,
   "id": "6bda2d68",
   "metadata": {},
   "outputs": [],
   "source": [
    "def compare_models_train():\n",
    "    for model in models:  # Iterate over each model in the models dictionary\n",
    "        model.fit(x_train, y_train)  # Train the model\n",
    "        train_data_prediction = model.predict(x_train)  # Predict using the trained model\n",
    "        \n",
    "        # Calculate evaluation metrics\n",
    "        accuracy = accuracy_score(train_data_prediction, y_train)\n",
    "        precision = precision_score(train_data_prediction, y_train, average='weighted')\n",
    "        recall = recall_score(train_data_prediction, y_train, average='weighted')\n",
    "        f1 = f1_score(train_data_prediction,y_train, average='weighted')\n",
    "        \n",
    "        # Print evaluation metrics\n",
    "        print(models[model], 'metrics:')\n",
    "        print('Accuracy:', accuracy)\n",
    "        print('Precision:', precision)\n",
    "        print('Recall:', recall)\n",
    "        print('F1 Score:', f1)\n",
    "        print('____________________________')"
   ]
  },
  {
   "cell_type": "code",
   "execution_count": 136,
   "id": "68adc2b9",
   "metadata": {},
   "outputs": [
    {
     "name": "stdout",
     "output_type": "stream",
     "text": [
      "Support Vector Classifier metrics:\n",
      "Accuracy: 1.0\n",
      "Precision: 1.0\n",
      "Recall: 1.0\n",
      "F1 Score: 1.0\n",
      "____________________________\n",
      "K Nearest Neighbors Classifier metrics:\n",
      "Accuracy: 0.9431818181818182\n",
      "Precision: 0.9460854581480643\n",
      "Recall: 0.9431818181818182\n",
      "F1 Score: 0.9432265864484536\n",
      "____________________________\n",
      "Random Forest Classifier metrics:\n",
      "Accuracy: 1.0\n",
      "Precision: 1.0\n",
      "Recall: 1.0\n",
      "F1 Score: 1.0\n",
      "____________________________\n",
      "Gradient Boosting Classifier metrics:\n",
      "Accuracy: 1.0\n",
      "Precision: 1.0\n",
      "Recall: 1.0\n",
      "F1 Score: 1.0\n",
      "____________________________\n",
      "Gaussian Naive Bayes metrics:\n",
      "Accuracy: 1.0\n",
      "Precision: 1.0\n",
      "Recall: 1.0\n",
      "F1 Score: 1.0\n",
      "____________________________\n",
      "XGB Classifier metrics:\n",
      "Accuracy: 1.0\n",
      "Precision: 1.0\n",
      "Recall: 1.0\n",
      "F1 Score: 1.0\n",
      "____________________________\n",
      "Decision Tree Classifier metrics:\n",
      "Accuracy: 0.9551136363636363\n",
      "Precision: 1.0\n",
      "Recall: 0.9551136363636363\n",
      "F1 Score: 0.9701999245567711\n",
      "____________________________\n"
     ]
    },
    {
     "name": "stderr",
     "output_type": "stream",
     "text": [
      "c:\\Users\\vishal\\AppData\\Local\\Programs\\Python\\Python312\\Lib\\site-packages\\sklearn\\metrics\\_classification.py:1509: UndefinedMetricWarning: Recall is ill-defined and being set to 0.0 in labels with no true samples. Use `zero_division` parameter to control this behavior.\n",
      "  _warn_prf(average, modifier, f\"{metric.capitalize()} is\", len(result))\n"
     ]
    }
   ],
   "source": [
    "compare_models_train()"
   ]
  },
  {
   "cell_type": "code",
   "execution_count": 141,
   "id": "e0c2b9fa",
   "metadata": {},
   "outputs": [
    {
     "name": "stdout",
     "output_type": "stream",
     "text": [
      "[]\n"
     ]
    }
   ],
   "source": [
    "model_accuracy = []\n",
    "model_name = []\n",
    "\n",
    "def compare_models_train_test():\n",
    "    for model in models:  # Iterate over each model in the models dictionary\n",
    "        model.fit(x_train, y_train)  # Train the model\n",
    "        test_data_prediction = model.predict(x_test)  # Predict using the trained model\n",
    "        \n",
    "        # Calculate evaluation metrics\n",
    "        accuracy = accuracy_score(test_data_prediction, y_test)\n",
    "        precision = precision_score(test_data_prediction, y_test, average='weighted')\n",
    "        recall = recall_score(test_data_prediction, y_test, average='weighted')\n",
    "        f1 = f1_score(test_data_prediction, y_test, average='weighted')\n",
    "        \n",
    "        # Print evaluation metrics\n",
    "        print(models[model], 'metrics:')\n",
    "        print('Accuracy:', accuracy)\n",
    "        print('Precision:', precision)\n",
    "        print('Recall:', recall)\n",
    "        print('F1 Score:', f1)\n",
    "        print('____________________________')\n",
    "\n",
    "        "
   ]
  },
  {
   "cell_type": "code",
   "execution_count": 139,
   "id": "2e95ad4b",
   "metadata": {},
   "outputs": [
    {
     "name": "stdout",
     "output_type": "stream",
     "text": [
      "Support Vector Classifier metrics:\n",
      "Accuracy: 0.9795454545454545\n",
      "Precision: 0.9802612072496983\n",
      "Recall: 0.9795454545454545\n",
      "F1 Score: 0.979477015234603\n",
      "____________________________\n",
      "K Nearest Neighbors Classifier metrics:\n",
      "Accuracy: 0.8863636363636364\n",
      "Precision: 0.9007247192946435\n",
      "Recall: 0.8863636363636364\n",
      "F1 Score: 0.88662631524455\n",
      "____________________________\n",
      "Random Forest Classifier metrics:\n",
      "Accuracy: 1.0\n",
      "Precision: 1.0\n",
      "Recall: 1.0\n",
      "F1 Score: 1.0\n",
      "____________________________\n",
      "Gradient Boosting Classifier metrics:\n",
      "Accuracy: 0.990909090909091\n",
      "Precision: 0.9915207980425371\n",
      "Recall: 0.990909090909091\n",
      "F1 Score: 0.9909250551739465\n",
      "____________________________\n",
      "Gaussian Naive Bayes metrics:\n",
      "Accuracy: 1.0\n",
      "Precision: 1.0\n",
      "Recall: 1.0\n",
      "F1 Score: 1.0\n",
      "____________________________\n",
      "XGB Classifier metrics:\n",
      "Accuracy: 0.9977272727272727\n",
      "Precision: 0.9978354978354979\n",
      "Recall: 0.9977272727272727\n",
      "F1 Score: 0.9977225213810579\n",
      "____________________________\n",
      "Decision Tree Classifier metrics:\n",
      "Accuracy: 0.95\n",
      "Precision: 0.9978354978354979\n",
      "Recall: 0.95\n",
      "F1 Score: 0.9653683783489487\n",
      "____________________________\n"
     ]
    },
    {
     "name": "stderr",
     "output_type": "stream",
     "text": [
      "c:\\Users\\vishal\\AppData\\Local\\Programs\\Python\\Python312\\Lib\\site-packages\\sklearn\\metrics\\_classification.py:1509: UndefinedMetricWarning: Recall is ill-defined and being set to 0.0 in labels with no true samples. Use `zero_division` parameter to control this behavior.\n",
      "  _warn_prf(average, modifier, f\"{metric.capitalize()} is\", len(result))\n"
     ]
    }
   ],
   "source": [
    "compare_models_train_test()"
   ]
  },
  {
   "cell_type": "code",
   "execution_count": 140,
   "id": "776bda5f",
   "metadata": {},
   "outputs": [
    {
     "name": "stdout",
     "output_type": "stream",
     "text": [
      "Accuracy: 1.0\n"
     ]
    }
   ],
   "source": [
    "model = GaussianNB().fit(x_train, y_train)\n",
    "\n",
    "# Save and Load the model\n",
    "joblib.dump(model, 'model.joblib')\n",
    "loaded_model = joblib.load('model.joblib')\n",
    "\n",
    "# Loaded model to make predictions\n",
    "predictions = loaded_model.predict(x_test)\n",
    "\n",
    "# Accuracy of the predictions\n",
    "accuracy = accuracy_score(y_test, predictions)\n",
    "print('Accuracy:', accuracy)"
   ]
  }
 ],
 "metadata": {
  "kernelspec": {
   "display_name": "Python 3 (ipykernel)",
   "language": "python",
   "name": "python3"
  },
  "language_info": {
   "codemirror_mode": {
    "name": "ipython",
    "version": 3
   },
   "file_extension": ".py",
   "mimetype": "text/x-python",
   "name": "python",
   "nbconvert_exporter": "python",
   "pygments_lexer": "ipython3",
   "version": "3.12.0"
  }
 },
 "nbformat": 4,
 "nbformat_minor": 5
}
